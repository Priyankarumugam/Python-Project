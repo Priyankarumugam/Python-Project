{
 "cells": [
  {
   "cell_type": "code",
   "execution_count": 12,
   "id": "854f3271-d3da-4b83-ba49-e4e0274c7ff3",
   "metadata": {},
   "outputs": [
    {
     "name": "stdin",
     "output_type": "stream",
     "text": [
      "Number of items:  2\n",
      "Enter item name:  gold\n",
      "Enter item name:  cosmetics\n"
     ]
    },
    {
     "name": "stdout",
     "output_type": "stream",
     "text": [
      "Item: gold\n",
      "Price: 5000\n",
      "GST 3%: $150.0 \n",
      "Total (Including GST): $5150.0 \n",
      "\n",
      "Item: cosmetics\n",
      "Price: 1200\n",
      "GST 18%: $216.0 \n",
      "Total (Including GST): $1416.0 \n",
      "\n",
      "Total Bill amount: $6566.0 \n",
      "Thanks for shopping\n"
     ]
    }
   ],
   "source": [
    "item = {\"cloth\": [5, 600], \"gold\": [3, 5000],\"books\":[5,400],\"cosmetics\":[18,1200],\"processedfoods\":[12,3000],\"electronics\":[18,7000],\"grocery\":[5,2000]}\n",
    "# Add more items and their corresponding GST rates here\n",
    "\n",
    "class gstcalculator:\n",
    "    \n",
    "    def __init__(self, item):\n",
    "        self.item = item\n",
    "\n",
    "    def total(self, products):\n",
    "        total_amt = 0\n",
    "        for items, values in products.items():\n",
    "            gst_rate = values[0]\n",
    "            item_price = values[1]\n",
    "            gst_amt = (item_price * gst_rate/100)                #calculate gst amount for the given item\n",
    "            total = item_price + gst_amt                         #calculate total price with gst\n",
    "            total_amt += total                                   #calculate total bill amount for the entire product purchased\n",
    "            print(\"Item:\", items)\n",
    "            print(\"Price:\", item_price)\n",
    "            print(f\"GST {gst_rate}%: ${gst_amt} \")\n",
    "            print(f\"Total (Including GST): ${total} \")\n",
    "            print()                                              # For spacing\n",
    "        print(f\"Total Bill amount: ${total_amt} \")\n",
    "\n",
    "products = {}                                                    #created empty dict to add the list of item in items\n",
    "no_of_item = int(input(\"Number of items: \"))\n",
    "for i in range(no_of_item):\n",
    "    items = input(\"Enter item name: \")\n",
    "    if items not in item:\n",
    "        print(\"Invalid input\")\n",
    "    else:\n",
    "        values = item.get(items, [])\n",
    "        gst = values[0]\n",
    "        price = values[1]\n",
    "        products[items] = [gst, price]                            # Add items in to dict\n",
    "\n",
    "calculator = gstcalculator(item)\n",
    "calculator.total(products)\n",
    "print(\"Thanks for shopping\")"
   ]
  },
  {
   "cell_type": "code",
   "execution_count": null,
   "id": "5cf2de1a-911e-435c-9585-1a1f440082fc",
   "metadata": {},
   "outputs": [],
   "source": []
  },
  {
   "cell_type": "code",
   "execution_count": null,
   "id": "607aa73e-0a8c-4dc2-9369-00f56c7df42b",
   "metadata": {},
   "outputs": [],
   "source": []
  },
  {
   "cell_type": "code",
   "execution_count": null,
   "id": "6e96bd94-71f7-4954-8e7d-8994df6745eb",
   "metadata": {},
   "outputs": [],
   "source": []
  },
  {
   "cell_type": "code",
   "execution_count": null,
   "id": "43f18953-019c-4c96-9589-a5f05c23d2a7",
   "metadata": {},
   "outputs": [],
   "source": []
  }
 ],
 "metadata": {
  "kernelspec": {
   "display_name": "Python 3 (ipykernel)",
   "language": "python",
   "name": "python3"
  },
  "language_info": {
   "codemirror_mode": {
    "name": "ipython",
    "version": 3
   },
   "file_extension": ".py",
   "mimetype": "text/x-python",
   "name": "python",
   "nbconvert_exporter": "python",
   "pygments_lexer": "ipython3",
   "version": "3.11.7"
  }
 },
 "nbformat": 4,
 "nbformat_minor": 5
}
